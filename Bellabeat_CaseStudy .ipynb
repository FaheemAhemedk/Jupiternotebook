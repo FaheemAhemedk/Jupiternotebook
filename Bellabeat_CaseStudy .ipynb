{
 "cells": [
  {
   "cell_type": "markdown",
   "id": "aa4cf472-8ddb-4d3c-bc91-97cfccb5d29c",
   "metadata": {},
   "source": [
    "<img src=\"bellabeat2.png\">"
   ]
  },
  {
   "cell_type": "markdown",
   "id": "609fd465-43e4-4657-8084-421de68a698b",
   "metadata": {},
   "source": [
    "# <span style=\"color:brown\"> Introduction </span>\n",
    "\n",
    "I am **Uzma Tabassum**. This is __Google Data Analytics Capstone Project__. This is my\n",
    "first case study. We have given a scenario. Now I am trying to perform my job as\n",
    "junior data analyst."
   ]
  },
  {
   "cell_type": "markdown",
   "id": "843eed90-0f2a-4516-9439-bcc7d3d076bd",
   "metadata": {
    "tags": []
   },
   "source": [
    "# <span style=\"color:brown\"> Scenario </span>\n",
    "I am a junior data analyst working on the marketing analyst team at **Bellabeat**, a\n",
    "high-tech manufacturer of health-focused\n",
    "products for women. **Bellabeat** is a successful small company, but they have\n",
    "the potential to become a larger player in the global smart device market. **Urška\n",
    "Sršen**, cofounder and Chief Creative Officer of Bellabeat, believes that analyzing\n",
    "smart device fitness data could help unlock new growth opportunities for the\n",
    "company. I have been asked to focus on one of\n",
    "Bellabeat’s products and analyze smart device data to gain insight into how\n",
    "consumers are using their smart devices. The insights we discover will then\n",
    "help guide marketing strategy for the company. I will present my analysis to\n",
    "the Bellabeat executive team along with our high-level recommendations for\n",
    "Bellabeat’s marketing strategy"
   ]
  },
  {
   "cell_type": "markdown",
   "id": "8113c1ff-a9b2-462f-b145-91bd1f5e049b",
   "metadata": {},
   "source": [
    "# <span style=\"color:brown\"> A description of all data sources used </span>\n",
    "Sršen encourages us to use public data that explores smart device users’ daily\n",
    "habits. She points us to a specific data set:\n",
    "**FitBit Fitness Tracker Data**(CC0: Public Domain, dataset made available\n",
    "through Mobius): This Kaggle data set\n",
    "contains personal fitness tracker from thirty fitbit users. Thirty eligible Fitbit users\n",
    "consented to the submission of\n",
    "personal tracker data, including minute-level output for **physical activity, heart\n",
    "rate, and sleep monitoring**. It includes\n",
    "information about **daily activity, steps, and heart rate** that can be used to explore\n",
    "users’ habits.\n",
    "as this is not enough data and there are limitations, because it is only **30 users\n",
    "records** but we will try to make our analysis good.\n"
   ]
  },
  {
   "cell_type": "markdown",
   "id": "f6bcd67a-981c-433b-8e32-9c23d62af184",
   "metadata": {},
   "source": [
    "# <span style=\"color:brown\"> Loading packages </span>"
   ]
  },
  {
   "cell_type": "code",
   "execution_count": null,
   "id": "47a63935-3a17-4410-b196-31c1ea7c46fc",
   "metadata": {},
   "outputs": [],
   "source": [
    "library(tidyverse)\n",
    "library(lubridate)\n",
    "library(dplyr)\n",
    "library(ggplot2)\n",
    "library(tidyr)\n",
    "library(here)\n",
    "library(skimr)\n",
    "library(janitor)"
   ]
  },
  {
   "cell_type": "markdown",
   "id": "15df1c1d-b991-4d45-ad56-81316275968c",
   "metadata": {},
   "source": [
    "# <span style=\"color:brown\"> Importing datasets </span>"
   ]
  },
  {
   "cell_type": "code",
   "execution_count": null,
   "id": "5710484b-b671-460e-a5d1-eff3e67852d5",
   "metadata": {},
   "outputs": [],
   "source": [
    "calories <- read.csv(\"../input/fitbit/Fitabase Data 4.12.16-5.12.16/hourlyCalories_merged.csv\")\n",
    "\n",
    "daily_activity <- read_csv(\"../input/fitbit/Fitabase Data 4.12.16-5.12.16/dailyActivity_merged.csv\")\n",
    "daily_sleep <- read_csv(\"../input/fitbit/Fitabase Data 4.12.16-5.12.16/sleepDay_merged.csv\")\n",
    "hourly_steps <- read_csv(\"../input/fitbit/Fitabase Data 4.12.16-5.12.16/hourlySteps_merged.csv\")\n",
    "\n",
    "weight_info <- read_csv(\"../input/fitbit/Fitabase Data 4.12.16-5.12.16/weightLogInfo_merged.csv\")\n",
    "heartrate <- read_csv(\"../input/fitbit/Fitabase Data 4.12.16-5.12.16/heartrate_seconds_merged.csv\")"
   ]
  },
  {
   "cell_type": "markdown",
   "id": "9f3e3ac9-423b-44e7-9125-9d48c36e537b",
   "metadata": {},
   "source": [
    "# <span style=\"color:brown\"> Preview Data set </span>"
   ]
  },
  {
   "cell_type": "code",
   "execution_count": null,
   "id": "e28abcc8-5d23-48e6-a9f4-380229276d98",
   "metadata": {},
   "outputs": [],
   "source": [
    "head(calories)\n",
    "head(daily_activity)\n",
    "head(daily_sleep)\n",
    "head(hourly_steps)\n",
    "head(weight_info)\n",
    "head(heartrate)"
   ]
  },
  {
   "cell_type": "markdown",
   "id": "52171974-f130-4e60-a392-9c55cf3d6d8d",
   "metadata": {},
   "source": [
    "# <span style=\"color:brown\"> Data Cleaning and Formatting</span>\n",
    "First of all, I opened all csv files in **Excel**. I looked all files one by one and I found\n",
    "that some files are most important and interesting. For example **daily activity,\n",
    "sleep, heartrate and weight** etc. So I decided to work with these files. I used\n",
    "**R programming language** for data cleaning in **R studio**. I checked, is there any\n",
    "duplicate or null value. After cleaning data, now it is ready to analyze."
   ]
  },
  {
   "cell_type": "code",
   "execution_count": null,
   "id": "44c67b3b-b0c2-4e55-baef-c4e95165d545",
   "metadata": {},
   "outputs": [],
   "source": [
    "# cheking unique values:\n",
    "n_unique(daily_activity$Id)\n",
    "n_unique(daily_sleep$Id)\n",
    "n_unique(hourly_steps$Id)\n",
    "n_unique(calories$Id)\n",
    "n_unique(weight_info$Id)\n",
    "n_unique(heartrate$Id)"
   ]
  },
  {
   "cell_type": "code",
   "execution_count": null,
   "id": "b277f20d-f330-40c2-a4a7-683d8f1ddbd8",
   "metadata": {},
   "outputs": [],
   "source": [
    "# checking dupliates values \n",
    "sum(duplicated(daily_activity))\n",
    "sum(duplicated(daily_sleep))\n",
    "sum(duplicated(hourly_steps))\n",
    "sum(duplicated(calories))\n",
    "sum(duplicated(weight_info))\n",
    "sum(duplicated(heartrate))"
   ]
  },
  {
   "cell_type": "code",
   "execution_count": null,
   "id": "c3bd1645-b11a-4e9d-a250-41b02c31da87",
   "metadata": {},
   "outputs": [],
   "source": [
    "#removing duplicate values and missing values from all data.\n",
    "\n",
    "daily_activity <- daily_activity %>%\n",
    "  distinct() %>%\n",
    "  drop_na()\n",
    "\n",
    "daily_sleep <- daily_sleep %>%\n",
    "  distinct() %>%\n",
    "  drop_na()\n",
    "\n",
    "hourly_steps <- hourly_steps %>%\n",
    "  distinct() %>%\n",
    "  drop_na()\n",
    "\n",
    "calories <- calories%>%\n",
    "  distinct() %>%\n",
    "  drop_na()\n",
    "\n",
    "\n",
    "weight_info <- weight_info %>%\n",
    "  distinct() %>%\n",
    "  drop_na()\n",
    "\n",
    "\n",
    "heartrate <- heartrate %>%\n",
    "  distinct() %>%\n",
    "  drop_na()"
   ]
  },
  {
   "cell_type": "code",
   "execution_count": null,
   "id": "ba117ff2-53bd-4388-b5e8-ef4526ff4705",
   "metadata": {},
   "outputs": [],
   "source": [
    "# checkingg duplicate values in daily_sleep because there was some duplicate values in it.\n",
    "sum(duplicated(daily_sleep))"
   ]
  },
  {
   "cell_type": "markdown",
   "id": "be43b784-7762-4332-9e32-143d83e2181a",
   "metadata": {},
   "source": [
    "Now we have removed all duplicate and missing values from all data. we have also checked there is no duplicate values here"
   ]
  },
  {
   "cell_type": "code",
   "execution_count": null,
   "id": "7256b140-2c2f-42eb-b563-caf42df1b0c8",
   "metadata": {},
   "outputs": [],
   "source": [
    "daily_activity <- daily_activity %>%\n",
    "  rename(date = ActivityDate) %>%\n",
    "  mutate(date = as_date(date, format = \"%m/%d/%Y\"))\n",
    "\n",
    "daily_sleep <- daily_sleep %>%\n",
    "  rename(date = SleepDay) %>%\n",
    "  mutate(date = as_date(date,format =\"%m/%d/%Y %I:%M:%S %p\" , tz=Sys.timezone()))"
   ]
  },
  {
   "cell_type": "code",
   "execution_count": null,
   "id": "d19167e7-93a0-4e21-bf9e-47996ac4a51a",
   "metadata": {},
   "outputs": [],
   "source": [
    "head(daily_activity)\n",
    "head(daily_sleep)"
   ]
  },
  {
   "cell_type": "code",
   "execution_count": null,
   "id": "edb1c109-d176-418a-90a7-ffad5d97ffa2",
   "metadata": {},
   "outputs": [],
   "source": [
    "hourly_steps<- hourly_steps %>% \n",
    "  rename(date_time = ActivityHour) %>% \n",
    "  mutate(date_time = as.POSIXct(date_time,format =\"%m/%d/%Y %I:%M:%S %p\" , tz=Sys.timezone()))\n",
    "\n",
    "head(hourly_steps)"
   ]
  },
  {
   "cell_type": "markdown",
   "id": "dfe722e5-32f8-4c04-92b4-2ba866332b8e",
   "metadata": {},
   "source": [
    "# <span style=\"color:brown\">Data Analysis </span>"
   ]
  },
  {
   "cell_type": "markdown",
   "id": "6ccf4b49-e947-4ad9-b8e7-0b68da63d678",
   "metadata": {},
   "source": [
    "I am analyzing daily activities. I will analyse the relationship between following,\n",
    "- daily steps and daily sleep.\n",
    "- daily steps and calories.\n",
    "- Daily sleep and sedentary minutes. \n",
    "\n",
    "etc.\n",
    "\n",
    "\n",
    "I will also findout Average sleep per day, Average heartrate, Average steps etc."
   ]
  },
  {
   "cell_type": "code",
   "execution_count": null,
   "id": "a994ebb4-a6f0-4068-9928-c11475b6dead",
   "metadata": {},
   "outputs": [],
   "source": [
    "daily_activity\n",
    "daily_activity %>%  \n",
    "  select(TotalSteps,\n",
    "         TotalDistance,\n",
    "         SedentaryMinutes, Calories) %>%\n",
    "  summary()"
   ]
  },
  {
   "cell_type": "markdown",
   "id": "0f811342-f752-4689-81ce-16c894714994",
   "metadata": {},
   "source": [
    "As we can see average daily steps are 7638, average calories are  2304, average sedentry minutes are 991.2, average total distance are 5.490. Reseach shows that women should aim to burn around 2000 calories per day and men should burn around 2500 calories per day and 8000 to 10000 steps per day is recomended."
   ]
  },
  {
   "cell_type": "code",
   "execution_count": null,
   "id": "d5170fb2-528a-4d53-92ce-9c15b0d5c569",
   "metadata": {},
   "outputs": [],
   "source": [
    "# explore num of active minutes per category\n",
    "daily_activity%>%\n",
    "  select(VeryActiveMinutes, FairlyActiveMinutes, LightlyActiveMinutes) %>%\n",
    "  summary()\n",
    "\n",
    "# calories\n",
    "calories %>%\n",
    "  select(Calories) %>%\n",
    "  summary()"
   ]
  },
  {
   "cell_type": "code",
   "execution_count": null,
   "id": "c2b00744-9caa-4d79-8ebc-ebd8de0db87c",
   "metadata": {},
   "outputs": [],
   "source": [
    "# sleep\n",
    "daily__sleep %>%\n",
    "  select(TotalSleepRecords, TotalMinutesAsleep, TotalTimeInBed) %>%\n",
    "  summary()"
   ]
  },
  {
   "cell_type": "markdown",
   "id": "ff1c053c-46f6-425b-8530-b5052f00ce4f",
   "metadata": {},
   "source": [
    " average sleep is 419 minutes. average time in bed is 458 minutes. Research shows that 420 minutes (7 hour) of sleep is necessary."
   ]
  },
  {
   "cell_type": "code",
   "execution_count": null,
   "id": "48a9c245-b9b9-4c55-8595-15da9cbb76f0",
   "metadata": {},
   "outputs": [
    {
     "ename": "SyntaxError",
     "evalue": "invalid syntax (2293605019.py, line 2)",
     "output_type": "error",
     "traceback": [
      "\u001b[1;36m  File \u001b[1;32m\"C:\\Users\\samsungpc\\AppData\\Local\\Temp\\ipykernel_4244\\2293605019.py\"\u001b[1;36m, line \u001b[1;32m2\u001b[0m\n\u001b[1;33m    weight_info  %>%\u001b[0m\n\u001b[1;37m                  ^\u001b[0m\n\u001b[1;31mSyntaxError\u001b[0m\u001b[1;31m:\u001b[0m invalid syntax\n"
     ]
    }
   ],
   "source": [
    "# weight\n",
    "weight_info  %>%\n",
    "  select(WeightKg, BMI) %>%\n",
    "  summary()"
   ]
  },
  {
   "cell_type": "markdown",
   "id": "c890ef74-a2e2-4d5f-9071-67d47de3b9ba",
   "metadata": {},
   "source": [
    "as we see, average weight is 62 kg, average BMI is 25. Resarch shows that ideal body weight for men is 50kg + 1.9kg for every inch above 5 feet and 49kg + 1.7kg is for women. Normal BMI Shoud be between 18.5 and 24.9"
   ]
  },
  {
   "cell_type": "code",
   "execution_count": null,
   "id": "da4ab32d-bae2-4635-a8aa-7eb6738b5b3d",
   "metadata": {},
   "outputs": [],
   "source": [
    "heartrate %>%\n",
    "  select(Value) %>%\n",
    "  summary()"
   ]
  },
  {
   "cell_type": "markdown",
   "id": "17d5abd3-b50b-475b-94dd-3c93f91f751d",
   "metadata": {},
   "source": [
    "average heartrate is 77.33. A normal resting heartrate should be between 60 to 100 beats per minute but it can vary person to person. Condition when the heartbeat Beyond 120 140 per minute or falls below 60 beats pee minutes can be dangerous."
   ]
  },
  {
   "cell_type": "markdown",
   "id": "8f07d47d-9f55-488f-aeb7-f9485ded3bf3",
   "metadata": {},
   "source": [
    "now I will merge sleep and daily activiy data to analyse."
   ]
  },
  {
   "cell_type": "code",
   "execution_count": null,
   "id": "05fc00fe-f8e5-44df-83c9-456a2c9e3801",
   "metadata": {},
   "outputs": [],
   "source": [
    "merged_data <- merge(daily_sleep, daily_activity, by=c('Id', 'date'))\n",
    "head(merged_data)"
   ]
  },
  {
   "cell_type": "code",
   "execution_count": null,
   "id": "2f3b5635-beb5-4361-81f2-641238ed4b4a",
   "metadata": {},
   "outputs": [],
   "source": [
    "weekday_steps_sleep <- merged_data %>%\n",
    "  mutate(weekday = weekdays(date))\n",
    "\n",
    "weekday_steps_sleep$weekday <-ordered(weekday_steps_sleep$weekday, levels=c(\"Monday\", \"Tuesday\", \"Wednesday\", \"Thursday\",\n",
    "                                                                            \"Friday\", \"Saturday\", \"Sunday\"))\n",
    "\n",
    "weekday_steps_sleep <-weekday_steps_sleep%>%\n",
    "  group_by(weekday) %>%\n",
    "  summarize (daily_steps = mean(TotalSteps), daily_sleep = mean(TotalMinutesAsleep))"
   ]
  },
  {
   "cell_type": "code",
   "execution_count": null,
   "id": "a1dc8365-0acc-4089-a509-72998aaa140f",
   "metadata": {},
   "outputs": [],
   "source": [
    "head(weekday_steps_sleep)"
   ]
  },
  {
   "cell_type": "markdown",
   "id": "5b7a36e4-8706-4efe-a6b4-966992e402e0",
   "metadata": {},
   "source": [
    "# <span style=\"color:brown\"> Visualizations and key findings </span>\n",
    "Using **ggplot2**, we get beautiful visualisation for our analysis.\n"
   ]
  },
  {
   "cell_type": "code",
   "execution_count": null,
   "id": "b3734a2e-0875-482b-9d07-45e0d4d5a922",
   "metadata": {},
   "outputs": [],
   "source": [
    "ggplot(weekday_steps_sleep) +\n",
    "  geom_col(aes(weekday, daily_steps), fill = \"brown\") +\n",
    "  geom_hline(yintercept = 8533) +\n",
    "  labs(title = \"Daily steps per weekday\", x= \"\", y = \"\") +\n",
    "  theme(axis.text.x = element_text(angle = 45,vjust = 0.5, hjust = 1))"
   ]
  },
  {
   "cell_type": "markdown",
   "id": "73d7049e-f972-45ca-8b9d-3e277bf02a62",
   "metadata": {},
   "source": [
    "satarday is most active day. sunday is least active day."
   ]
  },
  {
   "cell_type": "code",
   "execution_count": null,
   "id": "3ef221d3-6560-439d-887f-fdc0ceae36ed",
   "metadata": {},
   "outputs": [],
   "source": [
    "ggplot(weekday_steps_sleep, aes(weekday, daily_sleep)) +\n",
    "  geom_col(fill = \"blue\") +\n",
    "  geom_hline(yintercept = 419) +\n",
    "  labs(title = \"Minutes asleep per weekday\", x= \"\", y = \"\") +\n",
    "  theme(axis.text.x = element_text(angle = 45,vjust = 0.5, hjust = 1))"
   ]
  },
  {
   "cell_type": "code",
   "execution_count": null,
   "id": "bb82765d-d59b-4ff4-8a29-8155fa3f633d",
   "metadata": {},
   "outputs": [],
   "source": [
    "sunday is most sleepy day"
   ]
  },
  {
   "cell_type": "code",
   "execution_count": null,
   "id": "850239b3-4791-4c83-bed5-e549f9344fa5",
   "metadata": {},
   "outputs": [],
   "source": [
    "ggplot(data=activity, aes(x=TotalSteps, y=Calories)) + \n",
    "  geom_point(color = \"brown\") + geom_smooth(fill = \"purple\") + labs(title=\"Total Steps vs. Calories\")"
   ]
  },
  {
   "cell_type": "markdown",
   "id": "18045379-680d-475b-a459-46e4428e331e",
   "metadata": {},
   "source": [
    "there is a positive relationship between calories and total step. We should increase total steps per day in order to burn more calories."
   ]
  },
  {
   "cell_type": "code",
   "execution_count": null,
   "id": "b111a7c5-e3b8-468d-af02-c88924df37bf",
   "metadata": {},
   "outputs": [],
   "source": [
    "\n",
    "ggplot(data=activity, aes(x=date,y=TotalSteps)) + \n",
    "  geom_point(color = \"brown\") + geom_smooth((fill = \"purple\") + labs(title=\"Total Steps vs. time\")"
   ]
  },
  {
   "cell_type": "markdown",
   "id": "a9931f3a-0624-40de-850e-82b3b87b8db6",
   "metadata": {},
   "source": [
    "we see a little downward trend here. it seems that people loss their interest over time."
   ]
  },
  {
   "cell_type": "code",
   "execution_count": null,
   "id": "b9307197-d4cd-40b0-916e-fab02ecb390c",
   "metadata": {},
   "outputs": [],
   "source": [
    "\n",
    "ggplot(data=activity, aes(x=date,y=Calories)) + \n",
    "  geom_point((color = \"purple\") + geom_smooth(fill=\"green\") + labs(title=\" Calories vs. time\")"
   ]
  },
  {
   "cell_type": "markdown",
   "id": "404e7f72-b011-42f4-b17d-09285f01fd76",
   "metadata": {
    "tags": []
   },
   "source": [
    "we see a little downward trend here. it seems that people loss their interest over time."
   ]
  },
  {
   "cell_type": "code",
   "execution_count": null,
   "id": "8564f9cb-df34-4660-b7a8-35fa013569cb",
   "metadata": {},
   "outputs": [],
   "source": [
    "ggplot(data=sleep, aes(x=TotalMinutesAsleep, y=TotalTimeInBed)) + \n",
    "  geom_point(color=\"brown\")+ geom_smooth(fill =\"yellow\") + labs(title=\"Total Minutes Asleep vs. Total Time in Bed\")"
   ]
  },
  {
   "cell_type": "markdown",
   "id": "10a0ec25-840f-43ca-9e60-7d43422d4c53",
   "metadata": {},
   "source": [
    "There is a positive relationship between sleep and total time in bed."
   ]
  },
  {
   "cell_type": "code",
   "execution_count": null,
   "id": "0189d0ad-f19f-422a-9fa6-264ba9d1c512",
   "metadata": {},
   "outputs": [],
   "source": [
    "ggplot(data=merged_data, aes(x=TotalMinutesAsleep, y=SedentaryMinutes)) + \n",
    "  geom_point(color='maroon') + geom_smooth(color='green') +\n",
    "  labs(title=\"Minutes Asleep vs. Sedentary Minutes\")"
   ]
  },
  {
   "cell_type": "markdown",
   "id": "375658af-b188-4968-bba0-64726777d60b",
   "metadata": {},
   "source": [
    "there is a negative relation between sleep and sedentary minute. that means activeness is a reason of good sleep. If we want to sleep well we should try to be active."
   ]
  },
  {
   "cell_type": "markdown",
   "id": "2e9a42b6-5326-44fa-902c-e7b72039f9d3",
   "metadata": {
    "tags": []
   },
   "source": [
    "# <span style=\"color:brown\"> Conclusion </span>"
   ]
  },
  {
   "cell_type": "markdown",
   "id": "ec9f4f79-1286-427b-aa9a-dd2d7de5c757",
   "metadata": {},
   "source": [
    "We analysed given data. Now we can conclude our analysis. We find out that\n",
    "averages total steps are 7638 which is less than the recomended 8000 steps per\n",
    "day but this is very minor difference. People can easily overcome this problem by\n",
    "increasing daily steps. Average Daily sleep is approximately equal to recommended\n",
    "daily sleep that means 7 hour a day. Average Weight and average BMI is little\n",
    "bit greater than ideal weight and normal BMI. Average heartrate is 77 which is\n",
    "absolutely normal. One thing we notice here is a little downward trend in calories\n",
    "burn over time and total step over time. We have two month record of people. In\n",
    "beginning or first month they burn more calories and they take more steps per\n",
    "day. But this is not a big problem we can overcome this problem by putting some\n",
    "more interesting exercise and interesting stuff on our bellabeat smart device app\n",
    "to increase people interest over time. By this way we can motivate people to keep\n",
    "themselves more active and keep their body more healthy."
   ]
  },
  {
   "cell_type": "markdown",
   "id": "b07688cc-5ca6-4b59-a801-1ab0bce46d5a",
   "metadata": {},
   "source": [
    "# <span style=\"color:brown\"> Resources </span>\n",
    "we search all information about health on google."
   ]
  },
  {
   "cell_type": "markdown",
   "id": "ed71e8b1-3532-4e53-9294-94f226ee3cc3",
   "metadata": {},
   "source": [
    "##### <span style=\"color:brown\"> Thanks for your interest in this Bellabeat case study. This is my first case study. I will appreciate your comments and feed back on my first  case study project. Thanks again  </span>"
   ]
  }
 ],
 "metadata": {
  "kernelspec": {
   "display_name": "Python 3 (ipykernel)",
   "language": "python",
   "name": "python3"
  },
  "language_info": {
   "codemirror_mode": {
    "name": "ipython",
    "version": 3
   },
   "file_extension": ".py",
   "mimetype": "text/x-python",
   "name": "python",
   "nbconvert_exporter": "python",
   "pygments_lexer": "ipython3",
   "version": "3.9.13"
  }
 },
 "nbformat": 4,
 "nbformat_minor": 5
}
